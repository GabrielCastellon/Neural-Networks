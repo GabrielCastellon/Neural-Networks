{
  "cells": [
    {
      "cell_type": "markdown",
      "metadata": {},
      "source": [
        "# Assignment 5 - Neural Networks - COMP 237"
      ]
    },
    {
      "cell_type": "markdown",
      "metadata": {},
      "source": [
        "## Excercise 1"
      ]
    },
    {
      "cell_type": "markdown",
      "metadata": {},
      "source": [
        "- Single layer feed forward to recognize sum pattern\n",
        "- Train network using 10 data points"
      ]
    },
    {
      "cell_type": "markdown",
      "metadata": {},
      "source": [
        "Install and Import Libraries"
      ]
    },
    {
      "cell_type": "code",
      "execution_count": 1,
      "metadata": {},
      "outputs": [],
      "source": [
        "# Install the following packages:\n",
        "# pip intall numpy\n",
        "# pip install matplotlib\n",
        "# pip install neurolab"
      ]
    },
    {
      "cell_type": "code",
      "execution_count": 2,
      "metadata": {},
      "outputs": [],
      "source": [
        "import numpy as np\n",
        "import matplotlib.pyplot as plt\n",
        "import neurolab as nl"
      ]
    },
    {
      "cell_type": "markdown",
      "metadata": {},
      "source": [
        "Set the seed for random number generator"
      ]
    },
    {
      "cell_type": "code",
      "execution_count": 3,
      "metadata": {},
      "outputs": [],
      "source": [
        "np.random.seed(1)"
      ]
    },
    {
      "cell_type": "markdown",
      "metadata": {},
      "source": [
        "Create the input and output arrays with generated training data"
      ]
    },
    {
      "cell_type": "code",
      "execution_count": 4,
      "metadata": {},
      "outputs": [],
      "source": [
        "input_alpha1 = np.random.uniform(low=-0.6, high=0.6, size=(10, 2))\n",
        "output_alpha1 = np.sum(input_alpha1, axis=1).reshape(-1, 1)"
      ]
    },
    {
      "cell_type": "markdown",
      "metadata": {},
      "source": [
        "Create single layer neural network"
      ]
    },
    {
      "cell_type": "code",
      "execution_count": 5,
      "metadata": {},
      "outputs": [],
      "source": [
        "net1 = nl.net.newff([[-0.6, 0.6], [-0.6, 0.6]], [6, 1])"
      ]
    },
    {
      "cell_type": "markdown",
      "metadata": {},
      "source": [
        "Train the neural network"
      ]
    },
    {
      "cell_type": "code",
      "execution_count": 6,
      "metadata": {},
      "outputs": [
        {
          "name": "stdout",
          "output_type": "stream",
          "text": [
            "Epoch: 15; Error: 0.005075377415723188;\n",
            "Epoch: 30; Error: 0.0015158373414036782;\n",
            "Epoch: 45; Error: 0.0005143740138997168;\n",
            "Epoch: 60; Error: 0.0002858716906186119;\n",
            "Epoch: 75; Error: 2.7643538312222752e-05;\n",
            "The goal of learning is reached\n"
          ]
        }
      ],
      "source": [
        "error1 = net1.train(input_alpha1, output_alpha1, epochs=100, show=15, goal=0.00001)"
      ]
    },
    {
      "cell_type": "markdown",
      "metadata": {},
      "source": [
        "Test the neural network"
      ]
    },
    {
      "cell_type": "code",
      "execution_count": 7,
      "metadata": {},
      "outputs": [],
      "source": [
        "test_values1 = np.array([[0.1, 0.2]])\n",
        "result1 = net1.sim(test_values1)"
      ]
    },
    {
      "cell_type": "code",
      "execution_count": 8,
      "metadata": {},
      "outputs": [
        {
          "name": "stdout",
          "output_type": "stream",
          "text": [
            "Result #1: [[0.20190123]]\n"
          ]
        }
      ],
      "source": [
        "print(\"Result #1:\", result1)"
      ]
    },
    {
      "cell_type": "markdown",
      "metadata": {},
      "source": [
        "        Excercise 1 is completed ✅"
      ]
    },
    {
      "cell_type": "markdown",
      "metadata": {},
      "source": [
        "## Excercise 2"
      ]
    },
    {
      "cell_type": "markdown",
      "metadata": {},
      "source": [
        "- Multilayer Neural Network to recognize sum pattern\n",
        "- 2 layer feed forward network\n",
        "- 10 data points\n",
        "- Training algorithm: Gradient descent backpropagation"
      ]
    },
    {
      "cell_type": "code",
      "execution_count": 9,
      "metadata": {},
      "outputs": [],
      "source": [
        "input_alpha2 = np.random.uniform(-0.6, 0.6, (10, 2))\n",
        "output_alpha2 = np.sum(input_alpha2, axis=1).reshape(-1, 1)"
      ]
    },
    {
      "cell_type": "markdown",
      "metadata": {},
      "source": [
        "Create a two layer neural network"
      ]
    },
    {
      "cell_type": "code",
      "execution_count": 10,
      "metadata": {},
      "outputs": [],
      "source": [
        "net2 = nl.net.newff([[-0.6, 0.6], [-0.6, 0.6]], [5, 3, 1])"
      ]
    },
    {
      "cell_type": "markdown",
      "metadata": {},
      "source": [
        "Train the neural network"
      ]
    },
    {
      "cell_type": "code",
      "execution_count": 11,
      "metadata": {},
      "outputs": [
        {
          "name": "stdout",
          "output_type": "stream",
          "text": [
            "Epoch: 100; Error: 0.9282445313931476;\n",
            "Epoch: 200; Error: 0.8683317305714564;\n",
            "Epoch: 300; Error: 0.6326561897240215;\n",
            "Epoch: 400; Error: 0.2564037254710164;\n",
            "Epoch: 500; Error: 0.21161642830306937;\n",
            "Epoch: 600; Error: 0.20124528539492834;\n",
            "Epoch: 700; Error: 0.19340368638514693;\n",
            "Epoch: 800; Error: 0.18554757737524746;\n",
            "Epoch: 900; Error: 0.1770732146292818;\n",
            "Epoch: 1000; Error: 0.1674204838067495;\n",
            "The maximum number of train epochs is reached\n"
          ]
        }
      ],
      "source": [
        "net2.trainf = nl.train.train_gd  # Gradient descent backpropagation\n",
        "error_2 = net2.train(input_alpha2, output_alpha2, epochs=1000, show=100, goal=0.00001)"
      ]
    },
    {
      "cell_type": "markdown",
      "metadata": {},
      "source": [
        "Test the neural network"
      ]
    },
    {
      "cell_type": "code",
      "execution_count": 12,
      "metadata": {},
      "outputs": [
        {
          "name": "stdout",
          "output_type": "stream",
          "text": [
            "Result #2: [[-0.64014285]]\n"
          ]
        }
      ],
      "source": [
        "test_values2 = np.array([[0.1, 0.2]])\n",
        "result2 = net2.sim(test_values2)\n",
        "print(\"Result #2:\", result2)"
      ]
    },
    {
      "cell_type": "markdown",
      "metadata": {},
      "source": [
        "        Excercise 2 is completed ✅"
      ]
    },
    {
      "cell_type": "markdown",
      "metadata": {},
      "source": [
        "## Excercise 3"
      ]
    },
    {
      "cell_type": "markdown",
      "metadata": {},
      "source": [
        "- Single layer feed forward to recognize sum pattern with **more data**\n",
        "- Train network using 100 data points\n",
        "- 6 input neurons, 1 output neuron"
      ]
    },
    {
      "cell_type": "markdown",
      "metadata": {},
      "source": [
        "Create input and output arrays with generated training data (100 data points)"
      ]
    },
    {
      "cell_type": "code",
      "execution_count": 13,
      "metadata": {},
      "outputs": [],
      "source": [
        "input_alpha3 = np.random.uniform(low=-0.6, high=0.6, size=(100, 2))\n",
        "output_alpha3 = np.sum(input_alpha3, axis=1).reshape(-1, 1)"
      ]
    },
    {
      "cell_type": "markdown",
      "metadata": {},
      "source": [
        "Create single layer neural network"
      ]
    },
    {
      "cell_type": "code",
      "execution_count": 14,
      "metadata": {},
      "outputs": [],
      "source": [
        "net3 = nl.net.newff([[min(input_alpha3[:, 0]), max(input_alpha3[:, 0])],\n",
        "                    [min(input_alpha3[:, 1]), max(input_alpha3[:, 1])]], [6, 1])"
      ]
    },
    {
      "cell_type": "markdown",
      "metadata": {},
      "source": [
        "Train the neural network"
      ]
    },
    {
      "cell_type": "code",
      "execution_count": 15,
      "metadata": {},
      "outputs": [
        {
          "name": "stdout",
          "output_type": "stream",
          "text": [
            "Epoch: 15; Error: 0.3205103707312126;\n",
            "Epoch: 30; Error: 0.04071479046617342;\n",
            "Epoch: 45; Error: 0.02069478532175738;\n",
            "Epoch: 60; Error: 0.01760274029507367;\n",
            "Epoch: 75; Error: 0.014764168302804862;\n",
            "Epoch: 90; Error: 0.012625383064881476;\n",
            "The maximum number of train epochs is reached\n"
          ]
        }
      ],
      "source": [
        "error3 = net3.train(input_alpha3, output_alpha3, epochs=100, show=15, goal=0.00001)"
      ]
    },
    {
      "cell_type": "markdown",
      "metadata": {},
      "source": [
        "Test the neural network"
      ]
    },
    {
      "cell_type": "code",
      "execution_count": 16,
      "metadata": {},
      "outputs": [],
      "source": [
        "test_values3 = np.array([[0.1, 0.2]])\n",
        "result3 = net3.sim(test_values3)"
      ]
    },
    {
      "cell_type": "code",
      "execution_count": 17,
      "metadata": {},
      "outputs": [
        {
          "name": "stdout",
          "output_type": "stream",
          "text": [
            "Result #3: [[0.29919379]]\n"
          ]
        }
      ],
      "source": [
        "print(\"Result #3:\", result3)"
      ]
    },
    {
      "cell_type": "markdown",
      "metadata": {},
      "source": [
        "        Excercise 3 is completed ✅"
      ]
    },
    {
      "cell_type": "markdown",
      "metadata": {},
      "source": [
        "## Excercise 4"
      ]
    },
    {
      "cell_type": "markdown",
      "metadata": {},
      "source": [
        "- Multilayer Neural Network to recognize sum pattern with **more data** (100 data points)\n",
        "- 2 layer feed forward network = 2 hidden neurons (5 neurons, 3 neurons)\n",
        "- Training algorithm: Gradient descent backpropagation"
      ]
    },
    {
      "cell_type": "markdown",
      "metadata": {},
      "source": [
        "Create the input and output arrays with generated training data (100 data points)"
      ]
    },
    {
      "cell_type": "code",
      "execution_count": 18,
      "metadata": {},
      "outputs": [],
      "source": [
        "input_alpha4 = np.random.uniform(-0.6, 0.6, (100, 2))\n",
        "output_alpha4 = np.sum(input_alpha4, axis=1).reshape(-1, 1)"
      ]
    },
    {
      "cell_type": "markdown",
      "metadata": {},
      "source": [
        "Crear a two layer neural network"
      ]
    },
    {
      "cell_type": "code",
      "execution_count": 19,
      "metadata": {},
      "outputs": [],
      "source": [
        "net4 = nl.net.newff([[-0.6, 0.6], [-0.6, 0.6]], [5, 3, 1])"
      ]
    },
    {
      "cell_type": "markdown",
      "metadata": {},
      "source": [
        "Train the neural network"
      ]
    },
    {
      "cell_type": "code",
      "execution_count": 20,
      "metadata": {},
      "outputs": [
        {
          "name": "stdout",
          "output_type": "stream",
          "text": [
            "Epoch: 100; Error: 9.65647366561669;\n",
            "Epoch: 200; Error: 3.691469781006258;\n",
            "Epoch: 300; Error: 2.2659658754542806;\n",
            "Epoch: 400; Error: 1.922087014169752;\n",
            "Epoch: 500; Error: 1.6911194810296526;\n",
            "Epoch: 600; Error: 1.4962677882262319;\n",
            "Epoch: 700; Error: 1.3256810163483674;\n",
            "Epoch: 800; Error: 1.1669260571718272;\n",
            "Epoch: 900; Error: 1.0195648666716342;\n",
            "Epoch: 1000; Error: 0.8793163577170884;\n",
            "The maximum number of train epochs is reached\n"
          ]
        }
      ],
      "source": [
        "net4.trainf = nl.train.train_gd  # Gradient descent backpropagation\n",
        "error4 = net4.train(input_alpha4, output_alpha4, epochs=1000, show=100, goal=0.00001)"
      ]
    },
    {
      "cell_type": "markdown",
      "metadata": {},
      "source": [
        "Plot the error graph"
      ]
    },
    {
      "cell_type": "code",
      "execution_count": 21,
      "metadata": {},
      "outputs": [
        {
          "data": {
            "image/png": "[encoded data removed]",
            "text/plain": [
              "<Figure size 640x480 with 1 Axes>"
            ]
          },
          "metadata": {},
          "output_type": "display_data"
        }
      ],
      "source": [
        "plt.plot(error4)\n",
        "plt.xlabel(\"Epochs\")\n",
        "plt.ylabel(\"Error\")\n",
        "plt.title(\"Training Error Progress\")\n",
        "plt.grid(True)\n",
        "plt.show()"
      ]
    },
    {
      "cell_type": "markdown",
      "metadata": {},
      "source": [
        "Test the neural network"
      ]
    },
    {
      "cell_type": "code",
      "execution_count": 22,
      "metadata": {},
      "outputs": [
        {
          "name": "stdout",
          "output_type": "stream",
          "text": [
            "Result #4: [[0.49986474]]\n"
          ]
        }
      ],
      "source": [
        "test_values4 = np.array([[0.1, 0.2]])\n",
        "result4 = net4.sim(test_values4)\n",
        "print(\"Result #4:\", result4)"
      ]
    },
    {
      "cell_type": "markdown",
      "metadata": {},
      "source": [
        "        Excercise 4 is completed ✅"
      ]
    },
    {
      "cell_type": "markdown",
      "metadata": {},
      "source": [
        "## Excercise 5"
      ]
    },
    {
      "cell_type": "markdown",
      "metadata": {},
      "source": [
        "Result #5 :\n",
        "- 1 layer, 10 data points, and 3 inputs\n",
        "\n",
        "Result #6 :\n",
        "- Multi-layer (2 layers), 100 data points\n",
        "- 2 layer and 3 inputs"
      ]
    },
    {
      "cell_type": "markdown",
      "metadata": {},
      "source": [
        "### Result #5 (Excercise 1)"
      ]
    },
    {
      "cell_type": "markdown",
      "metadata": {},
      "source": [
        "Create the input and output arrays with generated training data"
      ]
    },
    {
      "cell_type": "code",
      "execution_count": 23,
      "metadata": {},
      "outputs": [],
      "source": [
        "input_alpha5 = np.random.uniform(low=-0.6, high=0.6, size=(10, 3))\n",
        "output_alpha5 = np.sum(input_alpha5, axis=1).reshape(-1, 1)"
      ]
    },
    {
      "cell_type": "markdown",
      "metadata": {},
      "source": [
        "Create a one-layer-three-input neural network"
      ]
    },
    {
      "cell_type": "code",
      "execution_count": 24,
      "metadata": {},
      "outputs": [],
      "source": [
        "net5 = nl.net.newff([[-0.6, 0.6], [-0.6, 0.6], [-0.6, 0.6]], [6, 1])"
      ]
    },
    {
      "cell_type": "markdown",
      "metadata": {},
      "source": [
        "Train the neural network"
      ]
    },
    {
      "cell_type": "code",
      "execution_count": 25,
      "metadata": {},
      "outputs": [
        {
          "name": "stdout",
          "output_type": "stream",
          "text": [
            "Epoch: 15; Error: 0.10953830880041578;\n",
            "Epoch: 30; Error: 0.04835197505518029;\n",
            "Epoch: 45; Error: 0.04285524570886178;\n",
            "Epoch: 60; Error: 0.04044820972954674;\n",
            "Epoch: 75; Error: 0.040017858317910306;\n",
            "Epoch: 90; Error: 0.03865788483165068;\n",
            "The maximum number of train epochs is reached\n"
          ]
        }
      ],
      "source": [
        "error5 = net5.train(input_alpha5, output_alpha5, epochs=100, show=15, goal=0.00001)"
      ]
    },
    {
      "cell_type": "markdown",
      "metadata": {},
      "source": [
        "Test/Simulate the Test Sample [0.2, 0.1, 0.2]"
      ]
    },
    {
      "cell_type": "code",
      "execution_count": 26,
      "metadata": {},
      "outputs": [
        {
          "name": "stdout",
          "output_type": "stream",
          "text": [
            "Result #5: [[0.27106705]]\n"
          ]
        }
      ],
      "source": [
        "test_values5 = np.array([[0.2, 0.1, 0.2]])\n",
        "result5 = net5.sim(test_values5)\n",
        "print(\"Result #5:\", result5)"
      ]
    },
    {
      "cell_type": "markdown",
      "metadata": {},
      "source": [
        "### Result #6 (Excercise 4)"
      ]
    },
    {
      "cell_type": "markdown",
      "metadata": {},
      "source": [
        "Create the input and output arrays with generated training data"
      ]
    },
    {
      "cell_type": "code",
      "execution_count": 27,
      "metadata": {},
      "outputs": [],
      "source": [
        "input_alpha6 = np.random.uniform(-0.6, 0.6, (100, 3))\n",
        "output_alpha6 = np.sum(input_alpha6, axis=1).reshape(-1, 1)"
      ]
    },
    {
      "cell_type": "markdown",
      "metadata": {},
      "source": [
        "Create a two-layer-three-input neural network"
      ]
    },
    {
      "cell_type": "code",
      "execution_count": 28,
      "metadata": {},
      "outputs": [],
      "source": [
        "net6 = nl.net.newff([[-0.6, 0.6], [-0.6, 0.6], [-0.6, 0.6]], [5, 3, 1])"
      ]
    },
    {
      "cell_type": "markdown",
      "metadata": {},
      "source": [
        "Train the neural network"
      ]
    },
    {
      "cell_type": "code",
      "execution_count": 29,
      "metadata": {},
      "outputs": [
        {
          "name": "stdout",
          "output_type": "stream",
          "text": [
            "Epoch: 100; Error: 2.2020433539890587;\n",
            "Epoch: 200; Error: 1.8565538143744051;\n",
            "Epoch: 300; Error: 1.2774333389725718;\n",
            "Epoch: 400; Error: 1.1006705355845159;\n",
            "Epoch: 500; Error: 1.0335012584072114;\n",
            "Epoch: 600; Error: 0.9960305886653869;\n",
            "Epoch: 700; Error: 1.0010850880415365;\n",
            "Epoch: 800; Error: 1.025461320541115;\n",
            "Epoch: 900; Error: 1.0474954432488022;\n",
            "Epoch: 1000; Error: 1.0584311642443816;\n",
            "The maximum number of train epochs is reached\n"
          ]
        }
      ],
      "source": [
        "net6.trainf = nl.train.train_gd  # Gradient descent backpropagation\n",
        "error6 = net6.train(input_alpha6, output_alpha6, epochs=1000, show=100, goal=0.00001)"
      ]
    },
    {
      "cell_type": "markdown",
      "metadata": {},
      "source": [
        "Test/Simulate the Test Sample [0.2, 0.1, 0.2]"
      ]
    },
    {
      "cell_type": "code",
      "execution_count": 30,
      "metadata": {},
      "outputs": [
        {
          "name": "stdout",
          "output_type": "stream",
          "text": [
            "Result #6: [[0.7232649]]\n"
          ]
        }
      ],
      "source": [
        "test_values6 = np.array([[0.2, 0.1, 0.2]])\n",
        "result6 = net6.sim(test_values6)\n",
        "print(\"Result #6:\", result6)"
      ]
    },
    {
      "cell_type": "markdown",
      "metadata": {},
      "source": [
        "        Excercise 5 is completed ✅"
      ]
    },
    {
      "cell_type": "markdown",
      "metadata": {},
      "source": [
        "### Output of all results"
      ]
    },
    {
      "cell_type": "code",
      "execution_count": 31,
      "metadata": {},
      "outputs": [
        {
          "name": "stdout",
          "output_type": "stream",
          "text": [
            "Result #1: [[0.20190123]]\n",
            "Result #2: [[-0.64014285]]\n",
            "Result #3: [[0.29919379]]\n",
            "Result #4: [[0.49986474]]\n",
            "Result #5: [[0.27106705]]\n",
            "Result #6: [[0.7232649]]\n"
          ]
        }
      ],
      "source": [
        "# print all results\n",
        "print(\"Result #1:\", result1)\n",
        "print(\"Result #2:\", result2)\n",
        "print(\"Result #3:\", result3)\n",
        "print(\"Result #4:\", result4)\n",
        "print(\"Result #5:\", result5)\n",
        "print(\"Result #6:\", result6)"
      ]
    }
  ],
  "metadata": {
    "colab": {
      "authorship_tag": "ABX9TyOJeXHu5eWF86GPXY+p3vI+",
      "include_colab_link": true,
      "provenance": []
    },
    "kernelspec": {
      "display_name": "Python 3",
      "name": "python3"
    },
    "language_info": {
      "codemirror_mode": {
        "name": "ipython",
        "version": 3
      },
      "file_extension": ".py",
      "mimetype": "text/x-python",
      "name": "python",
      "nbconvert_exporter": "python",
      "pygments_lexer": "ipython3",
      "version": "3.11.2"
    }
  },
  "nbformat": 4,
  "nbformat_minor": 0
}
